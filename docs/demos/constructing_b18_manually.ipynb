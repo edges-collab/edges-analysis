{
 "cells": [
  {
   "cell_type": "markdown",
   "id": "6cbc8d76-b502-4010-9323-57bbb0f02a52",
   "metadata": {},
   "source": [
    "# How to perform receiver calibration for EDGES-2"
   ]
  },
  {
   "cell_type": "markdown",
   "id": "9a8429db-ec17-4f59-9cda-75776d7eeb0a",
   "metadata": {},
   "source": [
    "In this demo, we go through how to define and calculate a receiver calibration with `edges`, specifically for EDGES-2. \n",
    "For an example, we'll imitate the calibration done for the Bowman+2018 paper. The easiest way to perform that \n",
    "calibration *exactly* is via the `edges.alanmode` sub-package. Doing this was covered in the\n",
    "[alanmode](./using_alnmod_b18.html) tutorial. We will use that as a comparison point in this demo, but show how to \n",
    "manually construct your calibration from a set of files, in a more flexible way. Along the way we'll explore the different\n",
    "components of the calibration and understand how to handle them."
   ]
  },
  {
   "cell_type": "markdown",
   "id": "e14f7a35-492c-453f-8d50-40d67b5d4321",
   "metadata": {},
   "source": [
    "## Data and Imports"
   ]
  },
  {
   "cell_type": "markdown",
   "id": "8a911a34-141f-4815-8e57-366a9d24adf0",
   "metadata": {},
   "source": [
    "We will fetch our data from a Zenodo repo holding the exact raw calibration data used to produce the H2 calibration case in \n",
    "Figure 2 of Bowman+2018."
   ]
  },
  {
   "cell_type": "code",
   "execution_count": 2,
   "id": "619def47-5a47-4661-ad47-0aa9b716247b",
   "metadata": {},
   "outputs": [],
   "source": [
    "from edges.data import fetch_b18cal_calibrated_s11s, fetch_b18cal_full"
   ]
  },
  {
   "cell_type": "code",
   "execution_count": 3,
   "id": "fe720d3e-94eb-4db0-861d-0e0d4a3deb93",
   "metadata": {},
   "outputs": [],
   "source": [
    "full_b18_calobs_path = fetch_b18cal_full()\n",
    "b18_calibrated_s11_path = fetch_b18cal_calibrated_s11s()"
   ]
  },
  {
   "cell_type": "markdown",
   "id": "119ef116-4c51-404d-b9bb-88aa942fe9b1",
   "metadata": {},
   "source": [
    "The `fetch_b18cal_full` function downloads all of the raw data for the B18 calibration and aranges it in a directory structure that matches how the data is laid out during a lab-based calibration. This directory structure is understood by some functions in `edges.io`, which helps us build the calibration more easily.\n",
    "\n",
    "Let's go ahead and perform the default calibration using `alancal` so we have something to compare to later:"
   ]
  },
  {
   "cell_type": "code",
   "execution_count": 4,
   "id": "b0b5b2ba-d3f8-4112-9e97-8e7d54e677e2",
   "metadata": {},
   "outputs": [],
   "source": [
    "# The important function:\n",
    "from edges.alanmode import alancal\n",
    "\n",
    "# Classes defining sets of parameters to pass\n",
    "from edges.alanmode import EdgesScriptParams, Edges2CalobsParams, ACQPlot7aMoonParams\n",
    "\n",
    "# Functions for reading the outputs of the legacy pipeline\n",
    "from edges.alanmode import read_modelled_s11s, read_spec_txt, read_specal, LOADMAP, SPEC_LOADMAP"
   ]
  },
  {
   "cell_type": "code",
   "execution_count": 5,
   "id": "3e7989b8-3075-4f43-b3a4-a245c87c8f78",
   "metadata": {},
   "outputs": [],
   "source": [
    "spectra_dir = full_b18_calobs_path / \"Spectra\"\n",
    "calobs_default, calibrator_default, *_ = alancal(\n",
    "    defparams = Edges2CalobsParams(\n",
    "        s11_path = b18_calibrated_s11_path,\n",
    "        ambient_acqs = sorted(spectra_dir.glob(\"Ambient*.acq\")),\n",
    "        hotload_acqs = sorted(spectra_dir.glob(\"HotLoad*.acq\")),\n",
    "        open_acqs = sorted(spectra_dir.glob(\"LongCableOpen*.acq\")),\n",
    "        short_acqs = sorted(spectra_dir.glob(\"LongCableShort*.acq\")),\n",
    "    ),\n",
    "    acqparams=ACQPlot7aMoonParams.bowman_2018_defaults(),\n",
    "    calparams=EdgesScriptParams.bowman_2018_defaults(),\n",
    ")\n",
    "  "
   ]
  },
  {
   "cell_type": "markdown",
   "id": "29d06806-e885-4fe0-8440-8cc7eb29b81c",
   "metadata": {},
   "source": [
    "To construct our calibration from scratch, we'll use the following imports:"
   ]
  },
  {
   "cell_type": "code",
   "execution_count": 6,
   "id": "e31c8f94-842b-4b67-ad0e-25242e143908",
   "metadata": {},
   "outputs": [],
   "source": [
    "from edges.io import CalObsDefEDGES2\n",
    "from edges.cal import CalibrationObservation, Calibrator, S11ModelParams\n",
    "from edges import modelling as mdl"
   ]
  },
  {
   "cell_type": "code",
   "execution_count": 7,
   "id": "7f7f411c-88d7-47b4-9c1c-95f687058031",
   "metadata": {},
   "outputs": [],
   "source": [
    "from astropy import units as un"
   ]
  },
  {
   "cell_type": "markdown",
   "id": "ed31fac0-7cde-4a39-887f-4798636af2a9",
   "metadata": {},
   "source": [
    "## Construct a CalibrationObservation from a Standard Directory Layout"
   ]
  },
  {
   "cell_type": "markdown",
   "id": "23d5b579-4caf-4c25-8b04-cc05faf636e8",
   "metadata": {},
   "source": [
    "To setup all the files we need for a calibration observation, we can use the fact that the directory is in a \"standard\" layout to construct a file-specification easily:"
   ]
  },
  {
   "cell_type": "code",
   "execution_count": 8,
   "id": "0b7ca323-53d4-4517-9c61-f5bf92e12179",
   "metadata": {},
   "outputs": [],
   "source": [
    "filespec = CalObsDefEDGES2.from_standard_layout(full_b18_calobs_path)"
   ]
  },
  {
   "cell_type": "markdown",
   "id": "7e51e8c9-72d6-4755-8b2d-0147b8252e33",
   "metadata": {},
   "source": [
    "The `filespec` now has all the files required:"
   ]
  },
  {
   "cell_type": "code",
   "execution_count": 9,
   "id": "21518a72-5dc6-4c13-a7f5-32fb15efc9b8",
   "metadata": {},
   "outputs": [
    {
     "name": "stdout",
     "output_type": "stream",
     "text": [
      "LoadDefEDGES2(name='Ambient', thermistor=PosixPath('/home/smurray/.cache/edges/B18-cal-raw-data/Resistance/Ambient_01_2015_300_00_00_00_lab.csv'), s11=LoadS11(calkit=CalkitFileSpec(match=PosixPath('/home/smurray/.cache/edges/B18-cal-raw-data/S11/Ambient01/Match01.s1p'), open=PosixPath('/home/smurray/.cache/edges/B18-cal-raw-data/S11/Ambient01/Open01.s1p'), short=PosixPath('/home/smurray/.cache/edges/B18-cal-raw-data/S11/Ambient01/Short01.s1p')), external=PosixPath('/home/smurray/.cache/edges/B18-cal-raw-data/S11/Ambient01/External01.s1p')), spectra=[PosixPath('/home/smurray/.cache/edges/B18-cal-raw-data/Spectra/Ambient_01_2015_246_02_00_00_lab.acq'), PosixPath('/home/smurray/.cache/edges/B18-cal-raw-data/Spectra/Ambient_01_2015_245_02_00_00_lab.acq')], sparams_file=None)\n"
     ]
    }
   ],
   "source": [
    "print(filespec.ambient)"
   ]
  },
  {
   "cell_type": "markdown",
   "id": "8d248a60-beaf-4226-b414-1335cf4e2a8b",
   "metadata": {},
   "source": [
    "But this is just a file specification, it doesn't hold actual data. The object that actually holds the calibration data is the \n",
    "`CalibrationObservation`. While the `CalibrationObservation` can be constructed directly (without reference to any files -- you \n",
    "could even just construct it with simulated values), when we have a file specification like this, it's much easier to construct\n",
    "the `CalibrationObservation`. \n",
    "\n",
    "We do need to choose some parameters for how the data will be read, cut and averaged.\n",
    "Most importantly, we need to choose the frequency range at which the raw spectra are\n",
    "cut, as well as the frequency range of the final calibration solutions. These are in \n",
    "general different (corresponding to `fstart/fstop` and `wfstart/wfstop` in the\n",
    "`alancal` function)."
   ]
  },
  {
   "cell_type": "code",
   "execution_count": 10,
   "id": "daba35d0-dcaa-4dc4-be8d-c5af0aa44628",
   "metadata": {},
   "outputs": [
    {
     "name": "stderr",
     "output_type": "stream",
     "text": [
      "Reading Ambient_01_2015_246_02_00_00_lab.acq: 680lines [00:00, 852.02lines/s]\n",
      "Reading Ambient_01_2015_245_02_00_00_lab.acq: 605lines [00:00, 837.62lines/s]/data7/smurray/edges/edges-analysis/.venv/lib/python3.11/site-packages/read_acq/read_acq.py:332: UserWarning: nspec and length of spectrum do not match\n",
      "  warnings.warn(str(e), stacklevel=1)\n",
      "Reading Ambient_01_2015_245_02_00_00_lab.acq: 637lines [00:00, 844.52lines/s]\n",
      "Reading HotLoad_01_2015_247_00_00_00_lab.acq: 752lines [00:00, 845.35lines/s]\n",
      "Reading HotLoad_01_2015_246_04_00_00_lab.acq: 5624lines [00:06, 830.90lines/s]\n",
      "Reading LongCableOpen_01_2015_245_00_00_00_lab.acq: 464lines [00:00, 833.70lines/s]\n",
      "Reading LongCableOpen_01_2015_244_00_00_00_lab.acq: 6836lines [00:08, 836.36lines/s]\n",
      "Reading LongCableOpen_01_2015_243_14_00_00_lab.acq: 2582lines [00:03, 837.43lines/s]\n"
     ]
    },
    {
     "ename": "IndexError",
     "evalue": "index 0 is out of bounds for axis 0 with size 0",
     "output_type": "error",
     "traceback": [
      "\u001b[31m---------------------------------------------------------------------------\u001b[39m",
      "\u001b[31mIndexError\u001b[39m                                Traceback (most recent call last)",
      "\u001b[36mCell\u001b[39m\u001b[36m \u001b[39m\u001b[32mIn[10]\u001b[39m\u001b[32m, line 1\u001b[39m\n\u001b[32m----> \u001b[39m\u001b[32m1\u001b[39m calobs = \u001b[43mCalibrationObservation\u001b[49m\u001b[43m.\u001b[49m\u001b[43mfrom_edges2_caldef\u001b[49m\u001b[43m(\u001b[49m\n\u001b[32m      2\u001b[39m \u001b[43m    \u001b[49m\u001b[43mfilespec\u001b[49m\u001b[43m,\u001b[49m\n\u001b[32m      3\u001b[39m \u001b[43m    \u001b[49m\u001b[43mfreq_bin_size\u001b[49m\u001b[43m=\u001b[49m\u001b[32;43m8\u001b[39;49m\u001b[43m,\u001b[49m\u001b[43m    \u001b[49m\u001b[38;5;66;43;03m# Smooth spectra over 8 bins\u001b[39;49;00m\n\u001b[32m      4\u001b[39m \u001b[43m    \u001b[49m\u001b[43mf_low\u001b[49m\u001b[43m \u001b[49m\u001b[43m=\u001b[49m\u001b[43m \u001b[49m\u001b[32;43m50\u001b[39;49m\u001b[43m \u001b[49m\u001b[43m*\u001b[49m\u001b[43m \u001b[49m\u001b[43mun\u001b[49m\u001b[43m.\u001b[49m\u001b[43mMHz\u001b[49m\u001b[43m,\u001b[49m\n\u001b[32m      5\u001b[39m \u001b[43m    \u001b[49m\u001b[43mf_high\u001b[49m\u001b[43m=\u001b[49m\u001b[43m \u001b[49m\u001b[32;43m100\u001b[39;49m\u001b[43m*\u001b[49m\u001b[43m \u001b[49m\u001b[43mun\u001b[49m\u001b[43m.\u001b[49m\u001b[43mMHz\u001b[49m\u001b[43m,\u001b[49m\n\u001b[32m      6\u001b[39m \u001b[43m    \u001b[49m\u001b[43mspectrum_kwargs\u001b[49m\u001b[43m=\u001b[49m\u001b[43m{\u001b[49m\n\u001b[32m      7\u001b[39m \u001b[43m        \u001b[49m\u001b[33;43m'\u001b[39;49m\u001b[33;43mdefault\u001b[39;49m\u001b[33;43m'\u001b[39;49m\u001b[43m:\u001b[49m\u001b[43m \u001b[49m\u001b[43m{\u001b[49m\n\u001b[32m      8\u001b[39m \u001b[43m            \u001b[49m\u001b[33;43m'\u001b[39;49m\u001b[33;43mf_low\u001b[39;49m\u001b[33;43m'\u001b[39;49m\u001b[43m:\u001b[49m\u001b[43m \u001b[49m\u001b[32;43m40.0\u001b[39;49m\u001b[43m \u001b[49m\u001b[43m*\u001b[49m\u001b[43m \u001b[49m\u001b[43mun\u001b[49m\u001b[43m.\u001b[49m\u001b[43mMHz\u001b[49m\u001b[43m,\u001b[49m\n\u001b[32m      9\u001b[39m \u001b[43m            \u001b[49m\u001b[33;43m'\u001b[39;49m\u001b[33;43mf_high\u001b[39;49m\u001b[33;43m'\u001b[39;49m\u001b[43m:\u001b[49m\u001b[43m \u001b[49m\u001b[32;43m110.0\u001b[39;49m\u001b[43m \u001b[49m\u001b[43m*\u001b[49m\u001b[43m \u001b[49m\u001b[43mun\u001b[49m\u001b[43m.\u001b[49m\u001b[43mMHz\u001b[49m\u001b[43m,\u001b[49m\n\u001b[32m     10\u001b[39m \u001b[43m            \u001b[49m\u001b[33;43m\"\u001b[39;49m\u001b[33;43mignore_times\u001b[39;49m\u001b[33;43m\"\u001b[39;49m\u001b[43m:\u001b[49m\u001b[43m \u001b[49m\u001b[32;43m7200.0\u001b[39;49m\u001b[43m \u001b[49m\u001b[43m*\u001b[49m\u001b[43m \u001b[49m\u001b[43mun\u001b[49m\u001b[43m.\u001b[49m\u001b[43ms\u001b[49m\u001b[43m,\u001b[49m\n\u001b[32m     11\u001b[39m \u001b[43m            \u001b[49m\u001b[33;43m\"\u001b[39;49m\u001b[33;43mfrequency_smoothing\u001b[39;49m\u001b[33;43m\"\u001b[39;49m\u001b[43m:\u001b[49m\u001b[43m \u001b[49m\u001b[33;43m\"\u001b[39;49m\u001b[33;43mgauss\u001b[39;49m\u001b[33;43m\"\u001b[39;49m\u001b[43m,\u001b[49m\n\u001b[32m     12\u001b[39m \u001b[43m        \u001b[49m\u001b[43m}\u001b[49m\n\u001b[32m     13\u001b[39m \u001b[43m    \u001b[49m\u001b[43m}\u001b[49m\u001b[43m,\u001b[49m\n\u001b[32m     14\u001b[39m \u001b[43m    \u001b[49m\u001b[43ms11_kwargs\u001b[49m\u001b[43m=\u001b[49m\u001b[43m{\u001b[49m\n\u001b[32m     15\u001b[39m \u001b[43m        \u001b[49m\u001b[33;43m\"\u001b[39;49m\u001b[33;43mmodel_params\u001b[39;49m\u001b[33;43m\"\u001b[39;49m\u001b[43m:\u001b[49m\u001b[43m \u001b[49m\u001b[43mS11ModelParams\u001b[49m\u001b[43m(\u001b[49m\n\u001b[32m     16\u001b[39m \u001b[43m            \u001b[49m\u001b[43mmodel\u001b[49m\u001b[43m=\u001b[49m\u001b[43mmdl\u001b[49m\u001b[43m.\u001b[49m\u001b[43mFourier\u001b[49m\u001b[43m(\u001b[49m\u001b[43mn_terms\u001b[49m\u001b[43m=\u001b[49m\u001b[32;43m27\u001b[39;49m\u001b[43m,\u001b[49m\u001b[43m \u001b[49m\u001b[43mtransform\u001b[49m\u001b[43m=\u001b[49m\u001b[43mmdl\u001b[49m\u001b[43m.\u001b[49m\u001b[43mZerotooneTransform\u001b[49m\u001b[43m(\u001b[49m\u001b[38;5;28;43mrange\u001b[39;49m\u001b[43m=\u001b[49m\u001b[43m(\u001b[49m\u001b[32;43m40\u001b[39;49m\u001b[43m,\u001b[49m\u001b[43m \u001b[49m\u001b[32;43m100\u001b[39;49m\u001b[43m)\u001b[49m\u001b[43m)\u001b[49m\u001b[43m,\u001b[49m\u001b[43m \u001b[49m\u001b[43mperiod\u001b[49m\u001b[43m=\u001b[49m\u001b[32;43m1.5\u001b[39;49m\u001b[43m)\u001b[49m\u001b[43m,\u001b[49m\n\u001b[32m     17\u001b[39m \u001b[43m            \u001b[49m\u001b[43mcomplex_model_type\u001b[49m\u001b[43m=\u001b[49m\u001b[43mmdl\u001b[49m\u001b[43m.\u001b[49m\u001b[43mComplexRealImagModel\u001b[49m\u001b[43m,\u001b[49m\n\u001b[32m     18\u001b[39m \u001b[43m            \u001b[49m\u001b[43mfind_model_delay\u001b[49m\u001b[43m=\u001b[49m\u001b[38;5;28;43;01mTrue\u001b[39;49;00m\u001b[43m,\u001b[49m\u001b[43m                \u001b[49m\n\u001b[32m     19\u001b[39m \u001b[43m        \u001b[49m\u001b[43m)\u001b[49m\n\u001b[32m     20\u001b[39m \u001b[43m    \u001b[49m\u001b[43m}\u001b[49m\u001b[43m,\u001b[49m\n\u001b[32m     21\u001b[39m \u001b[43m    \u001b[49m\u001b[43mreceiver_kwargs\u001b[49m\u001b[43m \u001b[49m\u001b[43m=\u001b[49m\u001b[43m \u001b[49m\u001b[43m{\u001b[49m\n\u001b[32m     22\u001b[39m \u001b[43m        \u001b[49m\u001b[33;43m\"\u001b[39;49m\u001b[33;43mmodel_params\u001b[39;49m\u001b[33;43m\"\u001b[39;49m\u001b[43m:\u001b[49m\u001b[43m \u001b[49m\u001b[43mS11ModelParams\u001b[49m\u001b[43m(\u001b[49m\n\u001b[32m     23\u001b[39m \u001b[43m            \u001b[49m\u001b[43mmodel\u001b[49m\u001b[43m=\u001b[49m\u001b[43mmdl\u001b[49m\u001b[43m.\u001b[49m\u001b[43mFourier\u001b[49m\u001b[43m(\u001b[49m\u001b[43mn_terms\u001b[49m\u001b[43m=\u001b[49m\u001b[32;43m11\u001b[39;49m\u001b[43m,\u001b[49m\u001b[43m \u001b[49m\u001b[43mperiod\u001b[49m\u001b[43m=\u001b[49m\u001b[32;43m1.5\u001b[39;49m\u001b[43m,\u001b[49m\u001b[43m \u001b[49m\u001b[43mtransform\u001b[49m\u001b[43m=\u001b[49m\u001b[43m \u001b[49m\u001b[43mmdl\u001b[49m\u001b[43m.\u001b[49m\u001b[43mZerotooneTransform\u001b[49m\u001b[43m(\u001b[49m\u001b[38;5;28;43mrange\u001b[39;49m\u001b[43m=\u001b[49m\u001b[43m(\u001b[49m\u001b[32;43m40\u001b[39;49m\u001b[43m,\u001b[49m\u001b[32;43m100\u001b[39;49m\u001b[43m)\u001b[49m\u001b[43m)\u001b[49m\u001b[43m)\u001b[49m\u001b[43m,\u001b[49m\n\u001b[32m     24\u001b[39m \u001b[43m            \u001b[49m\u001b[43mcomplex_model_type\u001b[49m\u001b[43m=\u001b[49m\u001b[43mmdl\u001b[49m\u001b[43m.\u001b[49m\u001b[43mComplexRealImagModel\u001b[49m\u001b[43m,\u001b[49m\n\u001b[32m     25\u001b[39m \u001b[43m            \u001b[49m\u001b[43mfind_model_delay\u001b[49m\u001b[43m=\u001b[49m\u001b[38;5;28;43;01mTrue\u001b[39;49;00m\u001b[43m,\u001b[49m\n\u001b[32m     26\u001b[39m \u001b[43m        \u001b[49m\u001b[43m)\u001b[49m\n\u001b[32m     27\u001b[39m \u001b[43m    \u001b[49m\u001b[43m}\u001b[49m\u001b[43m,\u001b[49m\n\u001b[32m     28\u001b[39m \u001b[43m    \u001b[49m\u001b[43mloss_model_params\u001b[49m\u001b[43m \u001b[49m\u001b[43m=\u001b[49m\u001b[43m \u001b[49m\u001b[43mS11ModelParams\u001b[49m\u001b[43m(\u001b[49m\n\u001b[32m     29\u001b[39m \u001b[43m        \u001b[49m\u001b[43mmodel\u001b[49m\u001b[43m=\u001b[49m\u001b[43mmdl\u001b[49m\u001b[43m.\u001b[49m\u001b[43mFourier\u001b[49m\u001b[43m(\u001b[49m\u001b[43mn_terms\u001b[49m\u001b[43m=\u001b[49m\u001b[32;43m27\u001b[39;49m\u001b[43m,\u001b[49m\u001b[43m \u001b[49m\u001b[43mperiod\u001b[49m\u001b[43m=\u001b[49m\u001b[32;43m1.5\u001b[39;49m\u001b[43m,\u001b[49m\u001b[43m \u001b[49m\u001b[43mtransform\u001b[49m\u001b[43m=\u001b[49m\u001b[43mmdl\u001b[49m\u001b[43m.\u001b[49m\u001b[43mZerotooneTransform\u001b[49m\u001b[43m(\u001b[49m\u001b[38;5;28;43mrange\u001b[39;49m\u001b[43m=\u001b[49m\u001b[43m(\u001b[49m\u001b[32;43m40\u001b[39;49m\u001b[43m,\u001b[49m\u001b[32;43m100\u001b[39;49m\u001b[43m)\u001b[49m\u001b[43m)\u001b[49m\u001b[43m)\u001b[49m\u001b[43m,\u001b[49m\n\u001b[32m     30\u001b[39m \u001b[43m        \u001b[49m\u001b[43mcomplex_model_type\u001b[49m\u001b[43m=\u001b[49m\u001b[43mmdl\u001b[49m\u001b[43m.\u001b[49m\u001b[43mComplexRealImagModel\u001b[49m\u001b[43m,\u001b[49m\n\u001b[32m     31\u001b[39m \u001b[43m    \u001b[49m\u001b[43m)\u001b[49m\u001b[43m,\u001b[49m\n\u001b[32m     32\u001b[39m \u001b[43m)\u001b[49m\n",
      "\u001b[36mFile \u001b[39m\u001b[32m/data7/smurray/edges/edges-analysis/src/edges/cal/calobs.py:154\u001b[39m, in \u001b[36mCalibrationObservation.from_edges2_caldef\u001b[39m\u001b[34m(cls, caldef, freq_bin_size, spectrum_kwargs, s11_kwargs, internal_switch_kwargs, f_low, f_high, receiver_kwargs, restrict_s11_model_freqs, loss_models, loss_model_params)\u001b[39m\n\u001b[32m    146\u001b[39m     hot_load_cable_sparams = CalibratedSParams.from_hot_load_semi_rigid(\n\u001b[32m    147\u001b[39m         caldef.hot_load.sparams_file, f_low=f_low, f_high=f_high\n\u001b[32m    148\u001b[39m     )\n\u001b[32m    152\u001b[39m     loss_models[\u001b[33m\"\u001b[39m\u001b[33mhot_load\u001b[39m\u001b[33m\"\u001b[39m] = LossFunctionGivenSparams(hot_load_cable_sparams)\n\u001b[32m--> \u001b[39m\u001b[32m154\u001b[39m \u001b[38;5;28;01mreturn\u001b[39;00m \u001b[38;5;28;43mcls\u001b[39;49m\u001b[43m.\u001b[49m\u001b[43m_from_caldef\u001b[49m\u001b[43m(\u001b[49m\n\u001b[32m    155\u001b[39m \u001b[43m    \u001b[49m\u001b[43mcaldef\u001b[49m\u001b[43m=\u001b[49m\u001b[43mcaldef\u001b[49m\u001b[43m,\u001b[49m\n\u001b[32m    156\u001b[39m \u001b[43m    \u001b[49m\u001b[43mfreq_bin_size\u001b[49m\u001b[43m=\u001b[49m\u001b[43mfreq_bin_size\u001b[49m\u001b[43m,\u001b[49m\n\u001b[32m    157\u001b[39m \u001b[43m    \u001b[49m\u001b[43mspectrum_kwargs\u001b[49m\u001b[43m=\u001b[49m\u001b[43mspectrum_kwargs\u001b[49m\u001b[43m,\u001b[49m\n\u001b[32m    158\u001b[39m \u001b[43m    \u001b[49m\u001b[43ms11_kwargs\u001b[49m\u001b[43m=\u001b[49m\u001b[43ms11_kwargs\u001b[49m\u001b[43m,\u001b[49m\n\u001b[32m    159\u001b[39m \u001b[43m    \u001b[49m\u001b[43minternal_switch_kwargs\u001b[49m\u001b[43m=\u001b[49m\u001b[43minternal_switch_kwargs\u001b[49m\u001b[43m,\u001b[49m\n\u001b[32m    160\u001b[39m \u001b[43m    \u001b[49m\u001b[43mf_low\u001b[49m\u001b[43m=\u001b[49m\u001b[43mf_low\u001b[49m\u001b[43m,\u001b[49m\n\u001b[32m    161\u001b[39m \u001b[43m    \u001b[49m\u001b[43mf_high\u001b[49m\u001b[43m=\u001b[49m\u001b[43mf_high\u001b[49m\u001b[43m,\u001b[49m\n\u001b[32m    162\u001b[39m \u001b[43m    \u001b[49m\u001b[43mreceiver_kwargs\u001b[49m\u001b[43m=\u001b[49m\u001b[43mreceiver_kwargs\u001b[49m\u001b[43m,\u001b[49m\n\u001b[32m    163\u001b[39m \u001b[43m    \u001b[49m\u001b[43mrestrict_s11_model_freqs\u001b[49m\u001b[43m=\u001b[49m\u001b[43mrestrict_s11_model_freqs\u001b[49m\u001b[43m,\u001b[49m\n\u001b[32m    164\u001b[39m \u001b[43m    \u001b[49m\u001b[43mloss_models\u001b[49m\u001b[43m=\u001b[49m\u001b[43mloss_models\u001b[49m\u001b[43m,\u001b[49m\n\u001b[32m    165\u001b[39m \u001b[43m    \u001b[49m\u001b[43mloss_model_params\u001b[49m\u001b[43m=\u001b[49m\u001b[43mloss_model_params\u001b[49m\u001b[43m,\u001b[49m\n\u001b[32m    166\u001b[39m \u001b[43m\u001b[49m\u001b[43m)\u001b[49m\n",
      "\u001b[36mFile \u001b[39m\u001b[32m/data7/smurray/edges/edges-analysis/src/edges/cal/calobs.py:370\u001b[39m, in \u001b[36mCalibrationObservation._from_caldef\u001b[39m\u001b[34m(cls, caldef, freq_bin_size, spectrum_kwargs, s11_kwargs, internal_switch_kwargs, f_low, f_high, receiver_kwargs, restrict_s11_model_freqs, loss_models, loss_model_params, **kwargs)\u001b[39m\n\u001b[32m    367\u001b[39m amb = get_load(\u001b[33m\"\u001b[39m\u001b[33mambient\u001b[39m\u001b[33m\"\u001b[39m)\n\u001b[32m    368\u001b[39m loads = {\u001b[33m\"\u001b[39m\u001b[33mambient\u001b[39m\u001b[33m\"\u001b[39m: amb}\n\u001b[32m--> \u001b[39m\u001b[32m370\u001b[39m loads |= \u001b[43m{\u001b[49m\n\u001b[32m    371\u001b[39m \u001b[43m    \u001b[49m\u001b[43msrc\u001b[49m\u001b[43m:\u001b[49m\u001b[43m \u001b[49m\u001b[43mget_load\u001b[49m\u001b[43m(\u001b[49m\u001b[43msrc\u001b[49m\u001b[43m,\u001b[49m\u001b[43m \u001b[49m\u001b[43mambient_temperature\u001b[49m\u001b[43m=\u001b[49m\u001b[43mamb\u001b[49m\u001b[43m.\u001b[49m\u001b[43mtemp_ave\u001b[49m\u001b[43m)\u001b[49m\n\u001b[32m    372\u001b[39m \u001b[43m    \u001b[49m\u001b[38;5;28;43;01mfor\u001b[39;49;00m\u001b[43m \u001b[49m\u001b[43msrc\u001b[49m\u001b[43m \u001b[49m\u001b[38;5;129;43;01min\u001b[39;49;00m\u001b[43m \u001b[49m\u001b[43m(\u001b[49m\u001b[33;43m\"\u001b[39;49m\u001b[33;43mhot_load\u001b[39;49m\u001b[33;43m\"\u001b[39;49m\u001b[43m,\u001b[49m\u001b[43m \u001b[49m\u001b[33;43m\"\u001b[39;49m\u001b[33;43mopen\u001b[39;49m\u001b[33;43m\"\u001b[39;49m\u001b[43m,\u001b[49m\u001b[43m \u001b[49m\u001b[33;43m\"\u001b[39;49m\u001b[33;43mshort\u001b[39;49m\u001b[33;43m\"\u001b[39;49m\u001b[43m)\u001b[49m\n\u001b[32m    373\u001b[39m \u001b[43m\u001b[49m\u001b[43m}\u001b[49m\n\u001b[32m    375\u001b[39m \u001b[38;5;66;03m# Smooth the receiver s11\u001b[39;00m\n\u001b[32m    376\u001b[39m receiver = raw_receiver.smoothed(rcv_model_params, freqs=amb.freqs)\n",
      "\u001b[36mFile \u001b[39m\u001b[32m/data7/smurray/edges/edges-analysis/src/edges/cal/calobs.py:371\u001b[39m, in \u001b[36m<dictcomp>\u001b[39m\u001b[34m(.0)\u001b[39m\n\u001b[32m    367\u001b[39m amb = get_load(\u001b[33m\"\u001b[39m\u001b[33mambient\u001b[39m\u001b[33m\"\u001b[39m)\n\u001b[32m    368\u001b[39m loads = {\u001b[33m\"\u001b[39m\u001b[33mambient\u001b[39m\u001b[33m\"\u001b[39m: amb}\n\u001b[32m    370\u001b[39m loads |= {\n\u001b[32m--> \u001b[39m\u001b[32m371\u001b[39m     src: \u001b[43mget_load\u001b[49m\u001b[43m(\u001b[49m\u001b[43msrc\u001b[49m\u001b[43m,\u001b[49m\u001b[43m \u001b[49m\u001b[43mambient_temperature\u001b[49m\u001b[43m=\u001b[49m\u001b[43mamb\u001b[49m\u001b[43m.\u001b[49m\u001b[43mtemp_ave\u001b[49m\u001b[43m)\u001b[49m\n\u001b[32m    372\u001b[39m     \u001b[38;5;28;01mfor\u001b[39;00m src \u001b[38;5;129;01min\u001b[39;00m (\u001b[33m\"\u001b[39m\u001b[33mhot_load\u001b[39m\u001b[33m\"\u001b[39m, \u001b[33m\"\u001b[39m\u001b[33mopen\u001b[39m\u001b[33m\"\u001b[39m, \u001b[33m\"\u001b[39m\u001b[33mshort\u001b[39m\u001b[33m\"\u001b[39m)\n\u001b[32m    373\u001b[39m }\n\u001b[32m    375\u001b[39m \u001b[38;5;66;03m# Smooth the receiver s11\u001b[39;00m\n\u001b[32m    376\u001b[39m receiver = raw_receiver.smoothed(rcv_model_params, freqs=amb.freqs)\n",
      "\u001b[36mFile \u001b[39m\u001b[32m/data7/smurray/edges/edges-analysis/src/edges/cal/calobs.py:351\u001b[39m, in \u001b[36mCalibrationObservation._from_caldef.<locals>.get_load\u001b[39m\u001b[34m(name, ambient_temperature)\u001b[39m\n\u001b[32m    350\u001b[39m \u001b[38;5;28;01mdef\u001b[39;00m\u001b[38;5;250m \u001b[39m\u001b[34mget_load\u001b[39m(name, ambient_temperature=\u001b[32m298\u001b[39m * un.K):\n\u001b[32m--> \u001b[39m\u001b[32m351\u001b[39m     \u001b[38;5;28;01mreturn\u001b[39;00m \u001b[43mLoad\u001b[49m\u001b[43m.\u001b[49m\u001b[43mfrom_caldef\u001b[49m\u001b[43m(\u001b[49m\n\u001b[32m    352\u001b[39m \u001b[43m        \u001b[49m\u001b[43mcaldef\u001b[49m\u001b[43m=\u001b[49m\u001b[43mcaldef\u001b[49m\u001b[43m,\u001b[49m\n\u001b[32m    353\u001b[39m \u001b[43m        \u001b[49m\u001b[43mload_name\u001b[49m\u001b[43m=\u001b[49m\u001b[43mname\u001b[49m\u001b[43m,\u001b[49m\n\u001b[32m    354\u001b[39m \u001b[43m        \u001b[49m\u001b[43mf_low\u001b[49m\u001b[43m=\u001b[49m\u001b[43mf_low\u001b[49m\u001b[43m,\u001b[49m\n\u001b[32m    355\u001b[39m \u001b[43m        \u001b[49m\u001b[43mf_high\u001b[49m\u001b[43m=\u001b[49m\u001b[43mf_high\u001b[49m\u001b[43m,\u001b[49m\n\u001b[32m    356\u001b[39m \u001b[43m        \u001b[49m\u001b[43ms11_kwargs\u001b[49m\u001b[43m=\u001b[49m\u001b[43ms11_kwargs\u001b[49m\u001b[43m,\u001b[49m\n\u001b[32m    357\u001b[39m \u001b[43m        \u001b[49m\u001b[43mspec_kwargs\u001b[49m\u001b[43m=\u001b[49m\u001b[43m{\u001b[49m\n\u001b[32m    358\u001b[39m \u001b[43m            \u001b[49m\u001b[43m*\u001b[49m\u001b[43m*\u001b[49m\u001b[43mspectrum_kwargs\u001b[49m\u001b[43m[\u001b[49m\u001b[33;43m\"\u001b[39;49m\u001b[33;43mdefault\u001b[39;49m\u001b[33;43m\"\u001b[39;49m\u001b[43m]\u001b[49m\u001b[43m,\u001b[49m\n\u001b[32m    359\u001b[39m \u001b[43m            \u001b[49m\u001b[43m*\u001b[49m\u001b[43m*\u001b[49m\u001b[43mspectrum_kwargs\u001b[49m\u001b[43m.\u001b[49m\u001b[43mget\u001b[49m\u001b[43m(\u001b[49m\u001b[43mname\u001b[49m\u001b[43m,\u001b[49m\u001b[43m \u001b[49m\u001b[43m{\u001b[49m\u001b[43m}\u001b[49m\u001b[43m)\u001b[49m\u001b[43m,\u001b[49m\n\u001b[32m    360\u001b[39m \u001b[43m        \u001b[49m\u001b[43m}\u001b[49m\u001b[43m,\u001b[49m\n\u001b[32m    361\u001b[39m \u001b[43m        \u001b[49m\u001b[43mambient_temperature\u001b[49m\u001b[43m=\u001b[49m\u001b[43mambient_temperature\u001b[49m\u001b[43m,\u001b[49m\n\u001b[32m    362\u001b[39m \u001b[43m        \u001b[49m\u001b[43mrestrict_s11_freqs\u001b[49m\u001b[43m=\u001b[49m\u001b[43mrestrict_s11_model_freqs\u001b[49m\u001b[43m,\u001b[49m\n\u001b[32m    363\u001b[39m \u001b[43m        \u001b[49m\u001b[43mloss_model\u001b[49m\u001b[43m=\u001b[49m\u001b[43mloss_models\u001b[49m\u001b[43m.\u001b[49m\u001b[43mget\u001b[49m\u001b[43m(\u001b[49m\u001b[43mname\u001b[49m\u001b[43m,\u001b[49m\u001b[43m \u001b[49m\u001b[38;5;28;43;01mNone\u001b[39;49;00m\u001b[43m)\u001b[49m\u001b[43m,\u001b[49m\n\u001b[32m    364\u001b[39m \u001b[43m        \u001b[49m\u001b[43mloss_model_params\u001b[49m\u001b[43m=\u001b[49m\u001b[43mloss_model_params\u001b[49m\u001b[43m,\u001b[49m\n\u001b[32m    365\u001b[39m \u001b[43m    \u001b[49m\u001b[43m)\u001b[49m\n",
      "\u001b[36mFile \u001b[39m\u001b[32m/data7/smurray/edges/edges-analysis/src/edges/cal/load_data.py:110\u001b[39m, in \u001b[36mLoad.from_caldef\u001b[39m\u001b[34m(cls, caldef, load_name, ambient_temperature, f_low, f_high, s11_kwargs, spec_kwargs, loss_model, loss_model_params, restrict_s11_freqs)\u001b[39m\n\u001b[32m    107\u001b[39m     spec_kwargs[\u001b[33m\"\u001b[39m\u001b[33mf_high\u001b[39m\u001b[33m\"\u001b[39m] = f_high\n\u001b[32m    109\u001b[39m loaddef = \u001b[38;5;28mgetattr\u001b[39m(caldef, load_name)\n\u001b[32m--> \u001b[39m\u001b[32m110\u001b[39m spec = \u001b[43mLoadSpectrum\u001b[49m\u001b[43m.\u001b[49m\u001b[43mfrom_loaddef\u001b[49m\u001b[43m(\u001b[49m\n\u001b[32m    111\u001b[39m \u001b[43m    \u001b[49m\u001b[43mloaddef\u001b[49m\u001b[43m=\u001b[49m\u001b[43mloaddef\u001b[49m\u001b[43m,\u001b[49m\n\u001b[32m    112\u001b[39m \u001b[43m    \u001b[49m\u001b[43mf_range_keep\u001b[49m\u001b[43m=\u001b[49m\u001b[43m(\u001b[49m\u001b[43mf_low\u001b[49m\u001b[43m,\u001b[49m\u001b[43m \u001b[49m\u001b[43mf_high\u001b[49m\u001b[43m)\u001b[49m\u001b[43m,\u001b[49m\n\u001b[32m    113\u001b[39m \u001b[43m    \u001b[49m\u001b[43m*\u001b[49m\u001b[43m*\u001b[49m\u001b[43mspec_kwargs\u001b[49m\u001b[43m,\u001b[49m\n\u001b[32m    114\u001b[39m \u001b[43m\u001b[49m\u001b[43m)\u001b[49m\n\u001b[32m    116\u001b[39m \u001b[38;5;66;03m# Fill up kwargs with keywords from this instance\u001b[39;00m\n\u001b[32m    117\u001b[39m \u001b[38;5;66;03m# TODO: here we only use the calkit defined for the FIRST switching_state,\u001b[39;00m\n\u001b[32m    118\u001b[39m \u001b[38;5;66;03m# instead of using each calkit for each switching_state. To fix this, we require\u001b[39;00m\n\u001b[32m    119\u001b[39m \u001b[38;5;66;03m# having meta information inside the S11/ directory.\u001b[39;00m\n\u001b[32m    120\u001b[39m s11_kwargs[\u001b[33m\"\u001b[39m\u001b[33mf_low\u001b[39m\u001b[33m\"\u001b[39m] = f_low \u001b[38;5;28;01mif\u001b[39;00m restrict_s11_freqs \u001b[38;5;28;01melse\u001b[39;00m \u001b[32m0\u001b[39m * un.MHz\n",
      "\u001b[36mFile \u001b[39m\u001b[32m/data7/smurray/edges/edges-analysis/src/edges/cal/spectra.py:267\u001b[39m, in \u001b[36mLoadSpectrum.from_loaddef\u001b[39m\u001b[34m(cls, loaddef, f_low, f_high, f_range_keep, freq_bin_size, ignore_times, temperature_range, frequency_smoothing, time_coordinate_swpos, invalidate_cache, cache_dir, temperature, allow_closest_time)\u001b[39m\n\u001b[32m    264\u001b[39m     thermistor = \u001b[38;5;28;01mNone\u001b[39;00m\n\u001b[32m    265\u001b[39m     temperature_range = \u001b[38;5;28;01mNone\u001b[39;00m\n\u001b[32m--> \u001b[39m\u001b[32m267\u001b[39m meanq, varq = \u001b[43mget_ave_and_var_spec\u001b[49m\u001b[43m(\u001b[49m\n\u001b[32m    268\u001b[39m \u001b[43m    \u001b[49m\u001b[43mdata\u001b[49m\u001b[43m=\u001b[49m\u001b[43mdata\u001b[49m\u001b[43m,\u001b[49m\n\u001b[32m    269\u001b[39m \u001b[43m    \u001b[49m\u001b[43mf_low\u001b[49m\u001b[43m=\u001b[49m\u001b[43mf_low\u001b[49m\u001b[43m,\u001b[49m\n\u001b[32m    270\u001b[39m \u001b[43m    \u001b[49m\u001b[43mf_high\u001b[49m\u001b[43m=\u001b[49m\u001b[43mf_high\u001b[49m\u001b[43m,\u001b[49m\n\u001b[32m    271\u001b[39m \u001b[43m    \u001b[49m\u001b[43mignore_times\u001b[49m\u001b[43m=\u001b[49m\u001b[43mignore_times\u001b[49m\u001b[43m,\u001b[49m\n\u001b[32m    272\u001b[39m \u001b[43m    \u001b[49m\u001b[43mfreq_bin_size\u001b[49m\u001b[43m=\u001b[49m\u001b[43mfreq_bin_size\u001b[49m\u001b[43m,\u001b[49m\n\u001b[32m    273\u001b[39m \u001b[43m    \u001b[49m\u001b[43mtemperature_range\u001b[49m\u001b[43m=\u001b[49m\u001b[43mtemperature_range\u001b[49m\u001b[43m,\u001b[49m\n\u001b[32m    274\u001b[39m \u001b[43m    \u001b[49m\u001b[43mthermistor\u001b[49m\u001b[43m=\u001b[49m\u001b[43mthermistor\u001b[49m\u001b[43m,\u001b[49m\n\u001b[32m    275\u001b[39m \u001b[43m    \u001b[49m\u001b[43mfrequency_smoothing\u001b[49m\u001b[43m=\u001b[49m\u001b[43mfrequency_smoothing\u001b[49m\u001b[43m,\u001b[49m\n\u001b[32m    276\u001b[39m \u001b[43m    \u001b[49m\u001b[43mtime_coordinate_swpos\u001b[49m\u001b[43m=\u001b[49m\u001b[43mtime_coordinate_swpos\u001b[49m\u001b[43m,\u001b[49m\n\u001b[32m    277\u001b[39m \u001b[43m\u001b[49m\u001b[43m)\u001b[49m\n\u001b[32m    279\u001b[39m \u001b[38;5;28;01mif\u001b[39;00m temperature \u001b[38;5;129;01mis\u001b[39;00m \u001b[38;5;28;01mNone\u001b[39;00m:\n\u001b[32m    280\u001b[39m     \u001b[38;5;28;01mif\u001b[39;00m thermistor \u001b[38;5;129;01mis\u001b[39;00m \u001b[38;5;129;01mnot\u001b[39;00m \u001b[38;5;28;01mNone\u001b[39;00m:\n",
      "\u001b[36mFile \u001b[39m\u001b[32m/data7/smurray/edges/edges-analysis/src/edges/cal/spectra.py:108\u001b[39m, in \u001b[36mget_ave_and_var_spec\u001b[39m\u001b[34m(data, thermistor, frequency_smoothing, f_low, f_high, ignore_times, freq_bin_size, temperature_range, time_coordinate_swpos)\u001b[39m\n\u001b[32m    105\u001b[39m \u001b[38;5;28;01mwith\u001b[39;00m contextlib.suppress(\u001b[38;5;167;01mException\u001b[39;00m):\n\u001b[32m    106\u001b[39m     _base_time, time_coordinate_swpos = time_coordinate_swpos\n\u001b[32m--> \u001b[39m\u001b[32m108\u001b[39m ignore_ninteg = \u001b[43mignore_ntimes\u001b[49m\u001b[43m(\u001b[49m\u001b[43mspec_timestamps\u001b[49m\u001b[43m,\u001b[49m\u001b[43m \u001b[49m\u001b[43mignore_times\u001b[49m\u001b[43m)\u001b[49m\n\u001b[32m    110\u001b[39m data = select_times(\n\u001b[32m    111\u001b[39m     data,\n\u001b[32m    112\u001b[39m     indx=\u001b[38;5;28mslice\u001b[39m(ignore_ninteg, \u001b[38;5;28;01mNone\u001b[39;00m),\n\u001b[32m    113\u001b[39m     load=data.loads[time_coordinate_swpos],\n\u001b[32m    114\u001b[39m )\n\u001b[32m    115\u001b[39m spec_timestamps = spec_timestamps[ignore_ninteg:]\n",
      "\u001b[36mFile \u001b[39m\u001b[32m/data7/smurray/edges/edges-analysis/src/edges/cal/thermistor.py:25\u001b[39m, in \u001b[36mignore_ntimes\u001b[39m\u001b[34m(times, ignore_times)\u001b[39m\n\u001b[32m     23\u001b[39m \u001b[38;5;28;01melif\u001b[39;00m ignore_times.unit.is_equivalent(un.second):\n\u001b[32m     24\u001b[39m     time_since_start = (times - times[\u001b[32m0\u001b[39m]).to(\u001b[33m\"\u001b[39m\u001b[33msecond\u001b[39m\u001b[33m\"\u001b[39m)\n\u001b[32m---> \u001b[39m\u001b[32m25\u001b[39m     n = \u001b[43mnp\u001b[49m\u001b[43m.\u001b[49m\u001b[43mwhere\u001b[49m\u001b[43m(\u001b[49m\u001b[43mtime_since_start\u001b[49m\u001b[43m \u001b[49m\u001b[43m>\u001b[49m\u001b[43m \u001b[49m\u001b[43mignore_times\u001b[49m\u001b[43m)\u001b[49m\u001b[43m[\u001b[49m\u001b[32;43m0\u001b[39;49m\u001b[43m]\u001b[49m\u001b[43m[\u001b[49m\u001b[32;43m0\u001b[39;49m\u001b[43m]\u001b[49m\n\u001b[32m     26\u001b[39m \u001b[38;5;28;01melif\u001b[39;00m ignore_times.unit.is_equivalent(un.percent):\n\u001b[32m     27\u001b[39m     n = \u001b[38;5;28mint\u001b[39m(\u001b[38;5;28mlen\u001b[39m(times) * ignore_times.to(un.dimensionless_unscaled))\n",
      "\u001b[31mIndexError\u001b[39m: index 0 is out of bounds for axis 0 with size 0"
     ]
    }
   ],
   "source": [
    "calobs = CalibrationObservation.from_edges2_caldef(\n",
    "    filespec,\n",
    "    freq_bin_size=8,    # Smooth spectra over 8 bins\n",
    "    f_low = 50 * un.MHz,\n",
    "    f_high= 100* un.MHz,\n",
    "    spectrum_kwargs={\n",
    "        'default': {\n",
    "            'f_low': 40.0 * un.MHz,\n",
    "            'f_high': 110.0 * un.MHz,\n",
    "            \"ignore_times\": 7200.0 * un.s,\n",
    "            \"frequency_smoothing\": \"gauss\",\n",
    "        }\n",
    "    },\n",
    "    s11_kwargs={\n",
    "        \"model_params\": S11ModelParams(\n",
    "            model=mdl.Fourier(n_terms=27, transform=mdl.ZerotooneTransform(range=(40, 100)), period=1.5),\n",
    "            complex_model_type=mdl.ComplexRealImagModel,\n",
    "            find_model_delay=True,                \n",
    "        )\n",
    "    },\n",
    "    receiver_kwargs = {\n",
    "        \"model_params\": S11ModelParams(\n",
    "            model=mdl.Fourier(n_terms=11, period=1.5, transform= mdl.ZerotooneTransform(range=(40,100))),\n",
    "            complex_model_type=mdl.ComplexRealImagModel,\n",
    "            find_model_delay=True,\n",
    "        )\n",
    "    },\n",
    "    loss_model_params = S11ModelParams(\n",
    "        model=mdl.Fourier(n_terms=27, period=1.5, transform=mdl.ZerotooneTransform(range=(40,100))),\n",
    "        complex_model_type=mdl.ComplexRealImagModel,\n",
    "    ),\n",
    ")"
   ]
  },
  {
   "cell_type": "markdown",
   "id": "d0920040-0f88-4d32-98bc-b3262e263b13",
   "metadata": {},
   "source": [
    "The `CalibrationObservation` does not have the calibration solutions in it -- only the data required to generate those solutions. Different \n",
    "methods can be used to compute the final calibration solutions from this data. The iterative method used in B18 can be used:"
   ]
  },
  {
   "cell_type": "code",
   "execution_count": null,
   "id": "9bb0c880-853b-4c82-aed3-3c9889e6b735",
   "metadata": {},
   "outputs": [],
   "source": [
    "from edges.cal import get_calcoeffs_iterative"
   ]
  },
  {
   "cell_type": "markdown",
   "id": "a91e2a27-012d-4fde-b22b-1b2bb0326a62",
   "metadata": {},
   "source": [
    "This function takes the calibration observation, along with some parameters that determine how it runs, and ultimately returns a `Calibrator` object, which simply holds the calibration solutions. Let's ensure that the parameters here match those used in the legacy pipeline:"
   ]
  },
  {
   "cell_type": "code",
   "execution_count": null,
   "id": "35f1163b-7e20-4be8-a305-ea5851f6fc49",
   "metadata": {},
   "outputs": [],
   "source": [
    "calibrator = get_calcoeffs_iterative(\n",
    "    calobs, \n",
    "    cterms=6, \n",
    "    wterms=5, \n",
    "    apply_loss_to_true_temp=False, \n",
    "    smooth_scale_offset_within_loop=False, \n",
    "    cable_delay_sweep=np.arange(0, -1e-8, -1e-9),\n",
    "    ncal_iter=8,\n",
    "    scale_offset_poly_spacing=0.5,\n",
    "    t_load_guess=300*un.K,\n",
    "    t_load_ns_guess=1000.0*un.K\n",
    ")"
   ]
  },
  {
   "cell_type": "code",
   "execution_count": null,
   "id": "44db760a-1c41-4617-8e63-ed2078562a66",
   "metadata": {},
   "outputs": [],
   "source": []
  }
 ],
 "metadata": {
  "kernelspec": {
   "display_name": "edges-one",
   "language": "python",
   "name": "edges-one"
  },
  "language_info": {
   "codemirror_mode": {
    "name": "ipython",
    "version": 3
   },
   "file_extension": ".py",
   "mimetype": "text/x-python",
   "name": "python",
   "nbconvert_exporter": "python",
   "pygments_lexer": "ipython3",
   "version": "3.11.10"
  }
 },
 "nbformat": 4,
 "nbformat_minor": 5
}
